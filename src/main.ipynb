{
 "cells": [
  {
   "cell_type": "code",
   "execution_count": 1,
   "metadata": {},
   "outputs": [
    {
     "name": "stdout",
     "output_type": "stream",
     "text": [
      "pygame 2.5.2 (SDL 2.28.2, Python 3.11.6)\n",
      "Hello from the pygame community. https://www.pygame.org/contribute.html\n"
     ]
    }
   ],
   "source": [
    "import pygame as pg\n",
    "import sys\n",
    "import os \n",
    "import time \n",
    "import utils as ut\n",
    "import animations as an\n",
    "import pyrow.pyrow as pr\n",
    "from threading import Thread\n",
    "\n",
    "# Standard \n",
    "BLUE = (0,80,239)\n",
    "BLACK = (0,0,0)\n",
    "GREEN = (0,138,0)\n",
    "RED = (229,20,0)\n",
    "WHITE = (255,255,255)\n",
    "GOLD = (248,217,73)\n",
    "SILVER = (170,169,173)\n",
    "\n",
    "# Initializing\n",
    "pg.init()\n",
    "\n",
    "# Importing all images/fonts\n",
    "[flag_be, flag_fr, flag_rma, flag_x] = ut.prepare_flags()\n",
    "boat = pg.transform.scale(pg.image.load(os.path.join(\".\", \"figures\",\"warship.png\")),(375,375))\n",
    "background_image = pg.transform.scale(pg.image.load(os.path.join(\".\", \"figures\",\"canal.png\")),(4000,2000))\n",
    "[font_10, font_30, font_50, font_70, font_90] = [ut.import_fonts(size) for size in [10,30,50,70,90]]\n",
    "\n",
    "# Screen parameters\n",
    "clock = pg.time.Clock()\n",
    "fps = 30\n",
    "screen = pg.display.set_mode((1600,900),pg.SCALED)\n",
    "width = screen.get_width()\n",
    "height = screen.get_height()\n",
    "pg.display.set_caption(\"Chapelié\")\n",
    "pg.display.set_icon(boat)\n",
    "\n",
    "# Assigning all utilites\n",
    "speed = 4\n",
    "colorswapper_rma = ut.ColorSwapper([WHITE,GREEN],.2,10)\n",
    "colorswapper_x = ut.ColorSwapper([WHITE,GREEN],.2,10)\n",
    "background = an.Background(screen,background_image,speed)\n",
    "boat_rma = an.Boat(screen,boat,flag_be,175)\n",
    "boat_x = an.Boat(screen,boat,flag_fr,-75)\n",
    "flag_rma = an.AnimatedFlag(screen,flag_rma,(-100-flag_rma[0].get_width(),flag_rma[0].get_height()//2))\n",
    "flag_x = an.AnimatedFlag(screen,flag_x,(100,flag_x[0].get_height()//2))\n",
    "\n",
    "# Distance to screen x location\n",
    "location = lambda x: 1 - 1/(x/1000 + 1)"
   ]
  },
  {
   "cell_type": "markdown",
   "metadata": {},
   "source": [
    "## Game part"
   ]
  },
  {
   "cell_type": "code",
   "execution_count": 3,
   "metadata": {},
   "outputs": [],
   "source": [
    "def options(options_time:int):\n",
    "    continue_color = WHITE\n",
    "    back_color = WHITE\n",
    "    s = pg.Surface((width,height))\n",
    "    s.set_alpha(200)\n",
    "    s.fill((0,0,0))\n",
    "    screen.blit(s,(0,0))\n",
    "    while True:\n",
    "        continue_button = an.button(screen,\"Continue\",font_50,(width//2,height//2-50),(375,75),continue_color)\n",
    "        back_button = an.button(screen,\"Quit\",font_50,(width//2,height//2+50),(375,75),back_color)\n",
    "        mx,my = pg.mouse.get_pos()\n",
    "        for event in pg.event.get():\n",
    "            if continue_button.collidepoint(mx,my):\n",
    "                continue_color = RED\n",
    "                if event.type == pg.MOUSEBUTTONDOWN:\n",
    "                    return time.time() - options_time\n",
    "            else:\n",
    "                continue_color = WHITE\n",
    "            if back_button.collidepoint(mx,my):\n",
    "                back_color = RED\n",
    "                if event.type == pg.MOUSEBUTTONDOWN:\n",
    "                    return \"quit\"\n",
    "            else:\n",
    "                back_color = WHITE\n",
    "        pg.display.flip()\n",
    "        clock.tick(fps)"
   ]
  },
  {
   "cell_type": "code",
   "execution_count": 4,
   "metadata": {},
   "outputs": [],
   "source": [
    "def game(total_time:int,machines:list[pr.PyErg]):\n",
    "    for machine in machines:\n",
    "        machine.set_clock()\n",
    "    machines_rma = machines[:len(machines)//2]\n",
    "    machines_x = machines[len(machines)//2:]\n",
    "    countdown = an.Countdown(screen,time.time(),total_time,font_50,WHITE)\n",
    "    options_color = WHITE\n",
    "    count = 0\n",
    "    distance_rma = 0\n",
    "    distance_x = 0\n",
    "    delta = 0\n",
    "    start = time.time()\n",
    "    duration = 0\n",
    "    while duration < total_time:\n",
    "        # Time\n",
    "        duration = time.time()-start\n",
    "\n",
    "        # Retrieve distances. RMA as reference\n",
    "        try:\n",
    "            distance_rma = sum([machine.get_monitor()[\"distance\"] for machine in machines_rma])\n",
    "            distance_x = sum([machine.get_monitor()[\"distance\"] for machine in machines_x])\n",
    "            delta = distance_rma-distance_x\n",
    "        except:\n",
    "            print(\"DISTANCE ERROR\")\n",
    "\n",
    "        # Swapping colors\n",
    "        color_rma = colorswapper_rma.swap(distance_rma,400,duration)\n",
    "        color_x = colorswapper_x.swap(distance_x,400,duration)\n",
    "\n",
    "        # Rendering of elements\n",
    "        background.blit(min(distance_rma,distance_x))\n",
    "        flag_rma.blit()\n",
    "        flag_x.blit()\n",
    "        boat_rma.blit(location(max(0,delta))*width)\n",
    "        boat_x.blit(location(max(0,-delta))*width)\n",
    "        countdown.blit()\n",
    "\n",
    "        an.render_text(screen,font_30,\"VS\",(width//2,height//2))\n",
    "        an.render_text(screen,font_50,str(round(distance_rma)) + \"m\",(width//2+400,height//2),color=color_rma)\n",
    "        an.render_text(screen,font_50,str(round(distance_x)) + \"m\",(width//2-400,height//2),color=color_x)\n",
    "        an.render_text(screen,font_10,\"Bouzin Philippot Prakopetz Vancanneyt (174 POL)\",(200,10))\n",
    "\n",
    "        # Options an.button\n",
    "        options_button = an.button(screen,\"Options\",font_30,(width-150,50),(250,50),options_color)\n",
    "        mx,my = pg.mouse.get_pos()\n",
    "        for event in pg.event.get():\n",
    "            if options_button.collidepoint(mx,my):\n",
    "                options_color = RED\n",
    "                if event.type == pg.MOUSEBUTTONDOWN:\n",
    "                    return_options = options(time.time())\n",
    "                    if return_options == \"quit\":\n",
    "                        return return_options\n",
    "                    else:\n",
    "                        countdown.start += return_options\n",
    "            else:\n",
    "                options_color = WHITE\n",
    "        \n",
    "        # Pygame stuff\n",
    "        pg.display.flip()\n",
    "        clock.tick(fps)\n",
    "        screen.fill(BLACK)\n",
    "        count += 1\n",
    "    return [[distance_rma,boat_rma],[distance_x,boat_x]]"
   ]
  },
  {
   "cell_type": "markdown",
   "metadata": {},
   "source": [
    "## Playing"
   ]
  },
  {
   "cell_type": "code",
   "execution_count": 9,
   "metadata": {},
   "outputs": [],
   "source": [
    "def main():\n",
    "    while True:\n",
    "        return_menu = main_menu()\n",
    "        if return_menu == \"play\":\n",
    "            return_play = play_menu()\n",
    "            if type(return_play) == int:\n",
    "                return_connect = connect_menu()\n",
    "                if type(return_connect) == list:\n",
    "                    return_game = game(return_play,return_connect)\n",
    "                    if return_game == \"quit\":\n",
    "                        continue\n",
    "                    else:\n",
    "                        end_menu(return_game)\n",
    "                else:\n",
    "                    continue\n",
    "            else:\n",
    "                continue\n",
    "        else:\n",
    "            quit()\n",
    "#! I am becoming schizophrenic from this code, but no worries"
   ]
  },
  {
   "cell_type": "markdown",
   "metadata": {},
   "source": [
    "## Running"
   ]
  },
  {
   "cell_type": "code",
   "execution_count": 2,
   "metadata": {},
   "outputs": [
    {
     "name": "stdout",
     "output_type": "stream",
     "text": [
      "pygame 2.5.2 (SDL 2.28.2, Python 3.11.6)\n",
      "Hello from the pygame community. https://www.pygame.org/contribute.html\n"
     ]
    },
    {
     "name": "stderr",
     "output_type": "stream",
     "text": [
      "/home/p3tzl/Documents/School/RMA_MA2/Chapelier/src/pyrow/pyrow.py:169: UserWarning: DEBUG: usb kernel driver not on linux\n",
      "  warn(\"DEBUG: usb kernel driver not on {}\".format(sys.platform))\n",
      "/home/p3tzl/Documents/School/RMA_MA2/Chapelier/src/pyrow/pyrow.py:181: UserWarning: DEBUG: usb error whilst setting configuration, [Errno 16] Resource busy\n",
      "  warn(\"DEBUG: usb error whilst setting configuration, {}\".format(e))\n"
     ]
    },
    {
     "ename": "USBError",
     "evalue": "[Errno 16] Resource busy",
     "output_type": "error",
     "traceback": [
      "\u001b[0;31m---------------------------------------------------------------------------\u001b[0m",
      "\u001b[0;31mUSBError\u001b[0m                                  Traceback (most recent call last)",
      "\u001b[1;32m/home/p3tzl/Documents/School/RMA_MA2/Chapelier/src/main.ipynb Cell 8\u001b[0m line \u001b[0;36m6\n\u001b[1;32m     <a href='vscode-notebook-cell:/home/p3tzl/Documents/School/RMA_MA2/Chapelier/src/main.ipynb#X52sZmlsZQ%3D%3D?line=63'>64</a>\u001b[0m             pg\u001b[39m.\u001b[39mquit()\n\u001b[1;32m     <a href='vscode-notebook-cell:/home/p3tzl/Documents/School/RMA_MA2/Chapelier/src/main.ipynb#X52sZmlsZQ%3D%3D?line=64'>65</a>\u001b[0m             sys\u001b[39m.\u001b[39mexit()\n\u001b[0;32m---> <a href='vscode-notebook-cell:/home/p3tzl/Documents/School/RMA_MA2/Chapelier/src/main.ipynb#X52sZmlsZQ%3D%3D?line=66'>67</a>\u001b[0m main()\n",
      "\u001b[1;32m/home/p3tzl/Documents/School/RMA_MA2/Chapelier/src/main.ipynb Cell 8\u001b[0m line \u001b[0;36m5\n\u001b[1;32m     <a href='vscode-notebook-cell:/home/p3tzl/Documents/School/RMA_MA2/Chapelier/src/main.ipynb#X52sZmlsZQ%3D%3D?line=48'>49</a>\u001b[0m return_play \u001b[39m=\u001b[39m game\u001b[39m.\u001b[39mplay()\n\u001b[1;32m     <a href='vscode-notebook-cell:/home/p3tzl/Documents/School/RMA_MA2/Chapelier/src/main.ipynb#X52sZmlsZQ%3D%3D?line=49'>50</a>\u001b[0m \u001b[39mif\u001b[39;00m \u001b[39mtype\u001b[39m(return_play) \u001b[39m==\u001b[39m \u001b[39mint\u001b[39m:\n\u001b[0;32m---> <a href='vscode-notebook-cell:/home/p3tzl/Documents/School/RMA_MA2/Chapelier/src/main.ipynb#X52sZmlsZQ%3D%3D?line=50'>51</a>\u001b[0m     return_connect \u001b[39m=\u001b[39m game\u001b[39m.\u001b[39;49mconnect()\n\u001b[1;32m     <a href='vscode-notebook-cell:/home/p3tzl/Documents/School/RMA_MA2/Chapelier/src/main.ipynb#X52sZmlsZQ%3D%3D?line=51'>52</a>\u001b[0m     \u001b[39mif\u001b[39;00m \u001b[39mtype\u001b[39m(return_connect) \u001b[39m==\u001b[39m \u001b[39mlist\u001b[39m:\n\u001b[1;32m     <a href='vscode-notebook-cell:/home/p3tzl/Documents/School/RMA_MA2/Chapelier/src/main.ipynb#X52sZmlsZQ%3D%3D?line=52'>53</a>\u001b[0m         return_game \u001b[39m=\u001b[39m game\u001b[39m.\u001b[39mgame(return_play,return_connect)\n",
      "File \u001b[0;32m~/Documents/School/RMA_MA2/Chapelier/src/animations.py:236\u001b[0m, in \u001b[0;36mMenu.connect\u001b[0;34m(self)\u001b[0m\n\u001b[1;32m    234\u001b[0m quit_button \u001b[39m=\u001b[39m button(\u001b[39mself\u001b[39m\u001b[39m.\u001b[39mscreen,\u001b[39m\"\u001b[39m\u001b[39mQuit\u001b[39m\u001b[39m\"\u001b[39m,\u001b[39mself\u001b[39m\u001b[39m.\u001b[39mfont_50,(\u001b[39mself\u001b[39m\u001b[39m.\u001b[39mwidth\u001b[39m/\u001b[39m\u001b[39m/\u001b[39m\u001b[39m2\u001b[39m,\u001b[39mself\u001b[39m\u001b[39m.\u001b[39mheight\u001b[39m/\u001b[39m\u001b[39m/\u001b[39m\u001b[39m2\u001b[39m\u001b[39m+\u001b[39m\u001b[39m100\u001b[39m),(\u001b[39m350\u001b[39m,\u001b[39m75\u001b[39m),quit_color)\n\u001b[1;32m    235\u001b[0m mx,my \u001b[39m=\u001b[39m pg\u001b[39m.\u001b[39mmouse\u001b[39m.\u001b[39mget_pos()\n\u001b[0;32m--> 236\u001b[0m available_machines \u001b[39m=\u001b[39m [pr\u001b[39m.\u001b[39;49mPyErg(machine) \u001b[39mfor\u001b[39;49;00m machine \u001b[39min\u001b[39;49;00m \u001b[39mlist\u001b[39;49m(pr\u001b[39m.\u001b[39;49mfind())]\n\u001b[1;32m    237\u001b[0m machine_colors \u001b[39m=\u001b[39m \u001b[39mlen\u001b[39m(available_machines)\u001b[39m*\u001b[39m[WHITE]\n\u001b[1;32m    238\u001b[0m assigned_machines \u001b[39m=\u001b[39m \u001b[39mlen\u001b[39m(available_machines)\u001b[39m/\u001b[39m\u001b[39m/\u001b[39m\u001b[39m2\u001b[39m\u001b[39m*\u001b[39m\u001b[39m2\u001b[39m\u001b[39m*\u001b[39m[\u001b[39mNone\u001b[39;00m]\n",
      "File \u001b[0;32m~/Documents/School/RMA_MA2/Chapelier/src/animations.py:236\u001b[0m, in \u001b[0;36m<listcomp>\u001b[0;34m(.0)\u001b[0m\n\u001b[1;32m    234\u001b[0m quit_button \u001b[39m=\u001b[39m button(\u001b[39mself\u001b[39m\u001b[39m.\u001b[39mscreen,\u001b[39m\"\u001b[39m\u001b[39mQuit\u001b[39m\u001b[39m\"\u001b[39m,\u001b[39mself\u001b[39m\u001b[39m.\u001b[39mfont_50,(\u001b[39mself\u001b[39m\u001b[39m.\u001b[39mwidth\u001b[39m/\u001b[39m\u001b[39m/\u001b[39m\u001b[39m2\u001b[39m,\u001b[39mself\u001b[39m\u001b[39m.\u001b[39mheight\u001b[39m/\u001b[39m\u001b[39m/\u001b[39m\u001b[39m2\u001b[39m\u001b[39m+\u001b[39m\u001b[39m100\u001b[39m),(\u001b[39m350\u001b[39m,\u001b[39m75\u001b[39m),quit_color)\n\u001b[1;32m    235\u001b[0m mx,my \u001b[39m=\u001b[39m pg\u001b[39m.\u001b[39mmouse\u001b[39m.\u001b[39mget_pos()\n\u001b[0;32m--> 236\u001b[0m available_machines \u001b[39m=\u001b[39m [pr\u001b[39m.\u001b[39;49mPyErg(machine) \u001b[39mfor\u001b[39;00m machine \u001b[39min\u001b[39;00m \u001b[39mlist\u001b[39m(pr\u001b[39m.\u001b[39mfind())]\n\u001b[1;32m    237\u001b[0m machine_colors \u001b[39m=\u001b[39m \u001b[39mlen\u001b[39m(available_machines)\u001b[39m*\u001b[39m[WHITE]\n\u001b[1;32m    238\u001b[0m assigned_machines \u001b[39m=\u001b[39m \u001b[39mlen\u001b[39m(available_machines)\u001b[39m/\u001b[39m\u001b[39m/\u001b[39m\u001b[39m2\u001b[39m\u001b[39m*\u001b[39m\u001b[39m2\u001b[39m\u001b[39m*\u001b[39m[\u001b[39mNone\u001b[39;00m]\n",
      "File \u001b[0;32m~/Documents/School/RMA_MA2/Chapelier/src/pyrow/pyrow.py:174\u001b[0m, in \u001b[0;36mPyErg.__init__\u001b[0;34m(self, erg)\u001b[0m\n\u001b[1;32m    171\u001b[0m         \u001b[39mraise\u001b[39;00m\n\u001b[1;32m    173\u001b[0m \u001b[39m#Claim interface (Needs Testing To See If Necessary)\u001b[39;00m\n\u001b[0;32m--> 174\u001b[0m usb\u001b[39m.\u001b[39;49mutil\u001b[39m.\u001b[39;49mclaim_interface(erg, INTERFACE)\n\u001b[1;32m    176\u001b[0m \u001b[39m#Linux throws error, reason unknown\u001b[39;00m\n\u001b[1;32m    177\u001b[0m \u001b[39mtry\u001b[39;00m:\n",
      "File \u001b[0;32m~/Documents/School/RMA_MA2/Chapelier/venv/lib/python3.11/site-packages/usb/util.py:205\u001b[0m, in \u001b[0;36mclaim_interface\u001b[0;34m(device, interface)\u001b[0m\n\u001b[1;32m    194\u001b[0m \u001b[39mdef\u001b[39;00m \u001b[39mclaim_interface\u001b[39m(device, interface):\n\u001b[1;32m    195\u001b[0m \u001b[39m    \u001b[39m\u001b[39mr\u001b[39m\u001b[39m\"\"\"Explicitly claim an interface.\u001b[39;00m\n\u001b[1;32m    196\u001b[0m \n\u001b[1;32m    197\u001b[0m \u001b[39m    PyUSB users normally do not have to worry about interface claiming,\u001b[39;00m\n\u001b[0;32m   (...)\u001b[0m\n\u001b[1;32m    203\u001b[0m \u001b[39m    to claim_interface or internally by the device object, nothing happens.\u001b[39;00m\n\u001b[1;32m    204\u001b[0m \u001b[39m    \"\"\"\u001b[39;00m\n\u001b[0;32m--> 205\u001b[0m     device\u001b[39m.\u001b[39;49m_ctx\u001b[39m.\u001b[39;49mmanaged_claim_interface(device, interface)\n",
      "File \u001b[0;32m~/Documents/School/RMA_MA2/Chapelier/venv/lib/python3.11/site-packages/usb/core.py:102\u001b[0m, in \u001b[0;36msynchronized.<locals>.wrapper\u001b[0;34m(self, *args, **kwargs)\u001b[0m\n\u001b[1;32m    100\u001b[0m \u001b[39mtry\u001b[39;00m:\n\u001b[1;32m    101\u001b[0m     \u001b[39mself\u001b[39m\u001b[39m.\u001b[39mlock\u001b[39m.\u001b[39macquire()\n\u001b[0;32m--> 102\u001b[0m     \u001b[39mreturn\u001b[39;00m f(\u001b[39mself\u001b[39;49m, \u001b[39m*\u001b[39;49margs, \u001b[39m*\u001b[39;49m\u001b[39m*\u001b[39;49mkwargs)\n\u001b[1;32m    103\u001b[0m \u001b[39mfinally\u001b[39;00m:\n\u001b[1;32m    104\u001b[0m     \u001b[39mself\u001b[39m\u001b[39m.\u001b[39mlock\u001b[39m.\u001b[39mrelease()\n",
      "File \u001b[0;32m~/Documents/School/RMA_MA2/Chapelier/venv/lib/python3.11/site-packages/usb/core.py:167\u001b[0m, in \u001b[0;36m_ResourceManager.managed_claim_interface\u001b[0;34m(self, device, intf)\u001b[0m\n\u001b[1;32m    164\u001b[0m     i \u001b[39m=\u001b[39m intf\n\u001b[1;32m    166\u001b[0m \u001b[39mif\u001b[39;00m i \u001b[39mnot\u001b[39;00m \u001b[39min\u001b[39;00m \u001b[39mself\u001b[39m\u001b[39m.\u001b[39m_claimed_intf:\n\u001b[0;32m--> 167\u001b[0m     \u001b[39mself\u001b[39;49m\u001b[39m.\u001b[39;49mbackend\u001b[39m.\u001b[39;49mclaim_interface(\u001b[39mself\u001b[39;49m\u001b[39m.\u001b[39;49mhandle, i)\n\u001b[1;32m    168\u001b[0m     \u001b[39mself\u001b[39m\u001b[39m.\u001b[39m_claimed_intf\u001b[39m.\u001b[39madd(i)\n",
      "File \u001b[0;32m~/Documents/School/RMA_MA2/Chapelier/venv/lib/python3.11/site-packages/usb/backend/libusb1.py:811\u001b[0m, in \u001b[0;36m_LibUSB.claim_interface\u001b[0;34m(self, dev_handle, intf)\u001b[0m\n\u001b[1;32m    809\u001b[0m \u001b[39m@methodtrace\u001b[39m(_logger)\n\u001b[1;32m    810\u001b[0m \u001b[39mdef\u001b[39;00m \u001b[39mclaim_interface\u001b[39m(\u001b[39mself\u001b[39m, dev_handle, intf):\n\u001b[0;32m--> 811\u001b[0m     _check(\u001b[39mself\u001b[39;49m\u001b[39m.\u001b[39;49mlib\u001b[39m.\u001b[39;49mlibusb_claim_interface(dev_handle\u001b[39m.\u001b[39;49mhandle, intf))\n",
      "File \u001b[0;32m~/Documents/School/RMA_MA2/Chapelier/venv/lib/python3.11/site-packages/usb/backend/libusb1.py:595\u001b[0m, in \u001b[0;36m_check\u001b[0;34m(ret)\u001b[0m\n\u001b[1;32m    593\u001b[0m         \u001b[39mraise\u001b[39;00m \u001b[39mNotImplementedError\u001b[39;00m(_strerror(ret))\n\u001b[1;32m    594\u001b[0m     \u001b[39melse\u001b[39;00m:\n\u001b[0;32m--> 595\u001b[0m         \u001b[39mraise\u001b[39;00m USBError(_strerror(ret), ret, _libusb_errno[ret])\n\u001b[1;32m    597\u001b[0m \u001b[39mreturn\u001b[39;00m ret\n",
      "\u001b[0;31mUSBError\u001b[0m: [Errno 16] Resource busy"
     ]
    },
    {
     "ename": "",
     "evalue": "",
     "output_type": "error",
     "traceback": [
      "\u001b[1;31mThe Kernel crashed while executing code in the the current cell or a previous cell. Please review the code in the cell(s) to identify a possible cause of the failure. Click <a href='https://aka.ms/vscodeJupyterKernelCrash'>here</a> for more info. View Jupyter <a href='command:jupyter.viewOutput'>log</a> for further details."
     ]
    }
   ],
   "source": [
    "import pygame as pg\n",
    "import sys\n",
    "import os \n",
    "import utils as ut\n",
    "import animations as an\n",
    "\n",
    "# Standard \n",
    "BLUE = (0,80,239)\n",
    "BLACK = (0,0,0)\n",
    "GREEN = (0,138,0)\n",
    "RED = (229,20,0)\n",
    "WHITE = (255,255,255)\n",
    "GOLD = (248,217,73)\n",
    "SILVER = (170,169,173)\n",
    "def main():\n",
    "    # Initializing\n",
    "    pg.init()\n",
    "\n",
    "    # Importing all images/fonts\n",
    "    [flag_be, flag_fr, flag_rma, flag_x] = ut.prepare_flags()\n",
    "    boat = pg.transform.scale(pg.image.load(os.path.join(\".\", \"figures\",\"warship.png\")),(375,375))\n",
    "    boat_be = pg.transform.scale(pg.image.load(os.path.join(\".\", \"figures\",\"warshipbe.png\")),(375,375))\n",
    "    boat_fr = pg.transform.scale(pg.image.load(os.path.join(\".\", \"figures\",\"warshipfr.png\")),(375,375))\n",
    "    background_image = pg.transform.scale(pg.image.load(os.path.join(\".\", \"figures\",\"canal.png\")),(4000,2000))\n",
    "    fonts = [ut.import_fonts(size) for size in [10,30,50,70,90]]\n",
    "\n",
    "    # Screen parameters\n",
    "    clock = pg.time.Clock()\n",
    "    fps = 30\n",
    "    screen = pg.display.set_mode((1600,900),pg.SCALED)\n",
    "    pg.display.set_caption(\"Chapelié\")\n",
    "    pg.display.set_icon(boat)\n",
    "\n",
    "    # Assigning all utilites\n",
    "    speed = 4\n",
    "    colorswapper_rma = ut.ColorSwapper([WHITE,GREEN],.2,10)\n",
    "    colorswapper_x = ut.ColorSwapper([WHITE,GREEN],.2,10)\n",
    "    background = an.Background(screen,background_image,speed)\n",
    "    boat_rma = an.Boat(screen,boat_be,flag_be,175)\n",
    "    boat_x = an.Boat(screen,boat_fr,flag_fr,-75)\n",
    "    flag_rma = an.AnimatedFlag(screen,flag_rma,(-100-flag_rma[0].get_width(),flag_rma[0].get_height()//2))\n",
    "    flag_x = an.AnimatedFlag(screen,flag_x,(100,flag_x[0].get_height()//2))\n",
    "\n",
    "    game = an.Menu(screen,fonts,clock,fps,background,boat_x,boat_rma,[flag_x,flag_rma],[colorswapper_x,colorswapper_rma])\n",
    "\n",
    "    while True:\n",
    "        return_menu = game.main()\n",
    "        if return_menu == \"play\":\n",
    "            return_play = game.play()\n",
    "            if type(return_play) == int:\n",
    "                return_connect = game.connect()\n",
    "                if type(return_connect) == list:\n",
    "                    return_game = game.game(return_play,return_connect)\n",
    "                    if return_game == \"quit\":\n",
    "                        continue\n",
    "                    else:\n",
    "                        game.end(return_game)\n",
    "                else:\n",
    "                    continue\n",
    "            else:\n",
    "                continue\n",
    "        else:\n",
    "            pg.display.quit()\n",
    "            pg.quit()\n",
    "            sys.exit()\n",
    "            \n",
    "main()"
   ]
  },
  {
   "cell_type": "markdown",
   "metadata": {},
   "source": [
    "## Test for projector "
   ]
  },
  {
   "cell_type": "code",
   "execution_count": 2,
   "metadata": {},
   "outputs": [
    {
     "name": "stderr",
     "output_type": "stream",
     "text": [
      "/home/p3tzl/Documents/School/RMA_MA2/Chapelier/src/pyrow/pyrow.py:180: UserWarning: DEBUG: usb error whilst setting configuration, [Errno 16] Resource busy\n",
      "  warn(\"DEBUG: usb error whilst setting configuration, {}\".format(e))\n"
     ]
    },
    {
     "ename": "ConnectionError",
     "evalue": "USB device disconected",
     "output_type": "error",
     "traceback": [
      "\u001b[0;31m---------------------------------------------------------------------------\u001b[0m",
      "\u001b[0;31mUSBError\u001b[0m                                  Traceback (most recent call last)",
      "File \u001b[0;32m~/Documents/School/RMA_MA2/Chapelier/src/pyrow/pyrow.py:437\u001b[0m, in \u001b[0;36mPyErg.send\u001b[0;34m(self, message)\u001b[0m\n\u001b[1;32m    436\u001b[0m \u001b[39mtry\u001b[39;00m:\n\u001b[0;32m--> 437\u001b[0m     length \u001b[39m=\u001b[39m \u001b[39mself\u001b[39;49m\u001b[39m.\u001b[39;49merg\u001b[39m.\u001b[39;49mwrite(\u001b[39mself\u001b[39;49m\u001b[39m.\u001b[39;49moutEndpoint, csafe, timeout\u001b[39m=\u001b[39;49m\u001b[39m2000\u001b[39;49m)\n\u001b[1;32m    438\u001b[0m \u001b[39m# Checks for USBError 16: Resource busy\u001b[39;00m\n",
      "File \u001b[0;32m~/Documents/School/RMA_MA2/Chapelier/venv/lib/python3.11/site-packages/usb/core.py:940\u001b[0m, in \u001b[0;36mDevice.write\u001b[0;34m(self, endpoint, data, timeout)\u001b[0m\n\u001b[1;32m    934\u001b[0m fn_map \u001b[39m=\u001b[39m {\n\u001b[1;32m    935\u001b[0m             util\u001b[39m.\u001b[39mENDPOINT_TYPE_BULK:backend\u001b[39m.\u001b[39mbulk_write,\n\u001b[1;32m    936\u001b[0m             util\u001b[39m.\u001b[39mENDPOINT_TYPE_INTR:backend\u001b[39m.\u001b[39mintr_write,\n\u001b[1;32m    937\u001b[0m             util\u001b[39m.\u001b[39mENDPOINT_TYPE_ISO:backend\u001b[39m.\u001b[39miso_write\n\u001b[1;32m    938\u001b[0m         }\n\u001b[0;32m--> 940\u001b[0m intf, ep \u001b[39m=\u001b[39m \u001b[39mself\u001b[39;49m\u001b[39m.\u001b[39;49m_ctx\u001b[39m.\u001b[39;49msetup_request(\u001b[39mself\u001b[39;49m, endpoint)\n\u001b[1;32m    941\u001b[0m fn \u001b[39m=\u001b[39m fn_map[util\u001b[39m.\u001b[39mendpoint_type(ep\u001b[39m.\u001b[39mbmAttributes)]\n",
      "File \u001b[0;32m~/Documents/School/RMA_MA2/Chapelier/venv/lib/python3.11/site-packages/usb/core.py:102\u001b[0m, in \u001b[0;36msynchronized.<locals>.wrapper\u001b[0;34m(self, *args, **kwargs)\u001b[0m\n\u001b[1;32m    101\u001b[0m     \u001b[39mself\u001b[39m\u001b[39m.\u001b[39mlock\u001b[39m.\u001b[39macquire()\n\u001b[0;32m--> 102\u001b[0m     \u001b[39mreturn\u001b[39;00m f(\u001b[39mself\u001b[39;49m, \u001b[39m*\u001b[39;49margs, \u001b[39m*\u001b[39;49m\u001b[39m*\u001b[39;49mkwargs)\n\u001b[1;32m    103\u001b[0m \u001b[39mfinally\u001b[39;00m:\n",
      "File \u001b[0;32m~/Documents/School/RMA_MA2/Chapelier/venv/lib/python3.11/site-packages/usb/core.py:216\u001b[0m, in \u001b[0;36m_ResourceManager.setup_request\u001b[0;34m(self, device, endpoint)\u001b[0m\n\u001b[1;32m    215\u001b[0m intf, ep \u001b[39m=\u001b[39m \u001b[39mself\u001b[39m\u001b[39m.\u001b[39mget_interface_and_endpoint(device, endpoint_address)\n\u001b[0;32m--> 216\u001b[0m \u001b[39mself\u001b[39;49m\u001b[39m.\u001b[39;49mmanaged_claim_interface(device, intf)\n\u001b[1;32m    217\u001b[0m \u001b[39mreturn\u001b[39;00m (intf, ep)\n",
      "File \u001b[0;32m~/Documents/School/RMA_MA2/Chapelier/venv/lib/python3.11/site-packages/usb/core.py:102\u001b[0m, in \u001b[0;36msynchronized.<locals>.wrapper\u001b[0;34m(self, *args, **kwargs)\u001b[0m\n\u001b[1;32m    101\u001b[0m     \u001b[39mself\u001b[39m\u001b[39m.\u001b[39mlock\u001b[39m.\u001b[39macquire()\n\u001b[0;32m--> 102\u001b[0m     \u001b[39mreturn\u001b[39;00m f(\u001b[39mself\u001b[39;49m, \u001b[39m*\u001b[39;49margs, \u001b[39m*\u001b[39;49m\u001b[39m*\u001b[39;49mkwargs)\n\u001b[1;32m    103\u001b[0m \u001b[39mfinally\u001b[39;00m:\n",
      "File \u001b[0;32m~/Documents/School/RMA_MA2/Chapelier/venv/lib/python3.11/site-packages/usb/core.py:167\u001b[0m, in \u001b[0;36m_ResourceManager.managed_claim_interface\u001b[0;34m(self, device, intf)\u001b[0m\n\u001b[1;32m    166\u001b[0m \u001b[39mif\u001b[39;00m i \u001b[39mnot\u001b[39;00m \u001b[39min\u001b[39;00m \u001b[39mself\u001b[39m\u001b[39m.\u001b[39m_claimed_intf:\n\u001b[0;32m--> 167\u001b[0m     \u001b[39mself\u001b[39;49m\u001b[39m.\u001b[39;49mbackend\u001b[39m.\u001b[39;49mclaim_interface(\u001b[39mself\u001b[39;49m\u001b[39m.\u001b[39;49mhandle, i)\n\u001b[1;32m    168\u001b[0m     \u001b[39mself\u001b[39m\u001b[39m.\u001b[39m_claimed_intf\u001b[39m.\u001b[39madd(i)\n",
      "File \u001b[0;32m~/Documents/School/RMA_MA2/Chapelier/venv/lib/python3.11/site-packages/usb/backend/libusb1.py:811\u001b[0m, in \u001b[0;36m_LibUSB.claim_interface\u001b[0;34m(self, dev_handle, intf)\u001b[0m\n\u001b[1;32m    809\u001b[0m \u001b[39m@methodtrace\u001b[39m(_logger)\n\u001b[1;32m    810\u001b[0m \u001b[39mdef\u001b[39;00m \u001b[39mclaim_interface\u001b[39m(\u001b[39mself\u001b[39m, dev_handle, intf):\n\u001b[0;32m--> 811\u001b[0m     _check(\u001b[39mself\u001b[39;49m\u001b[39m.\u001b[39;49mlib\u001b[39m.\u001b[39;49mlibusb_claim_interface(dev_handle\u001b[39m.\u001b[39;49mhandle, intf))\n",
      "File \u001b[0;32m~/Documents/School/RMA_MA2/Chapelier/venv/lib/python3.11/site-packages/usb/backend/libusb1.py:595\u001b[0m, in \u001b[0;36m_check\u001b[0;34m(ret)\u001b[0m\n\u001b[1;32m    594\u001b[0m     \u001b[39melse\u001b[39;00m:\n\u001b[0;32m--> 595\u001b[0m         \u001b[39mraise\u001b[39;00m USBError(_strerror(ret), ret, _libusb_errno[ret])\n\u001b[1;32m    597\u001b[0m \u001b[39mreturn\u001b[39;00m ret\n",
      "\u001b[0;31mUSBError\u001b[0m: [Errno 16] Resource busy",
      "\nDuring handling of the above exception, another exception occurred:\n",
      "\u001b[0;31mConnectionError\u001b[0m                           Traceback (most recent call last)",
      "\u001b[1;32m/home/p3tzl/Documents/School/RMA_MA2/Chapelier/src/main.ipynb Cell 10\u001b[0m line \u001b[0;36m4\n\u001b[1;32m      <a href='vscode-notebook-cell:/home/p3tzl/Documents/School/RMA_MA2/Chapelier/src/main.ipynb#X56sZmlsZQ%3D%3D?line=0'>1</a>\u001b[0m \u001b[39mimport\u001b[39;00m \u001b[39mpyrow\u001b[39;00m\u001b[39m.\u001b[39;00m\u001b[39mpyrow\u001b[39;00m \u001b[39mas\u001b[39;00m \u001b[39mpr\u001b[39;00m \n\u001b[1;32m      <a href='vscode-notebook-cell:/home/p3tzl/Documents/School/RMA_MA2/Chapelier/src/main.ipynb#X56sZmlsZQ%3D%3D?line=1'>2</a>\u001b[0m available_machines \u001b[39m=\u001b[39m [pr\u001b[39m.\u001b[39mPyErg(machine) \u001b[39mfor\u001b[39;00m machine \u001b[39min\u001b[39;00m \u001b[39mlist\u001b[39m(pr\u001b[39m.\u001b[39mfind())]\n\u001b[0;32m----> <a href='vscode-notebook-cell:/home/p3tzl/Documents/School/RMA_MA2/Chapelier/src/main.ipynb#X56sZmlsZQ%3D%3D?line=3'>4</a>\u001b[0m \u001b[39mprint\u001b[39m(available_machines[\u001b[39m0\u001b[39;49m]\u001b[39m.\u001b[39;49mget_monitor()[\u001b[39m\"\u001b[39m\u001b[39mdistance\u001b[39m\u001b[39m\"\u001b[39m])\n",
      "File \u001b[0;32m~/Documents/School/RMA_MA2/Chapelier/src/pyrow/pyrow.py:221\u001b[0m, in \u001b[0;36mPyErg.get_monitor\u001b[0;34m(self, forceplot, pretty)\u001b[0m\n\u001b[1;32m    219\u001b[0m \u001b[39mif\u001b[39;00m forceplot:\n\u001b[1;32m    220\u001b[0m     command\u001b[39m.\u001b[39mextend([\u001b[39m'\u001b[39m\u001b[39mCSAFE_PM_GET_FORCEPLOTDATA\u001b[39m\u001b[39m'\u001b[39m, \u001b[39m32\u001b[39m, \u001b[39m'\u001b[39m\u001b[39mCSAFE_PM_GET_STROKESTATE\u001b[39m\u001b[39m'\u001b[39m])\n\u001b[0;32m--> 221\u001b[0m results \u001b[39m=\u001b[39m \u001b[39mself\u001b[39;49m\u001b[39m.\u001b[39;49msend(command)\n\u001b[1;32m    223\u001b[0m monitor \u001b[39m=\u001b[39m {}\n\u001b[1;32m    224\u001b[0m monitor[\u001b[39m'\u001b[39m\u001b[39mtime\u001b[39m\u001b[39m'\u001b[39m] \u001b[39m=\u001b[39m (results[\u001b[39m'\u001b[39m\u001b[39mCSAFE_PM_GET_WORKTIME\u001b[39m\u001b[39m'\u001b[39m][\u001b[39m0\u001b[39m] \u001b[39m+\u001b[39m \\\n\u001b[1;32m    225\u001b[0m     results[\u001b[39m'\u001b[39m\u001b[39mCSAFE_PM_GET_WORKTIME\u001b[39m\u001b[39m'\u001b[39m][\u001b[39m1\u001b[39m])\u001b[39m/\u001b[39m\u001b[39m100.\u001b[39m\n",
      "File \u001b[0;32m~/Documents/School/RMA_MA2/Chapelier/src/pyrow/pyrow.py:441\u001b[0m, in \u001b[0;36mPyErg.send\u001b[0;34m(self, message)\u001b[0m\n\u001b[1;32m    439\u001b[0m \u001b[39mexcept\u001b[39;00m USBError \u001b[39mas\u001b[39;00m e:\n\u001b[1;32m    440\u001b[0m     \u001b[39mif\u001b[39;00m e\u001b[39m.\u001b[39merrno \u001b[39m!=\u001b[39m \u001b[39m19\u001b[39m:\n\u001b[0;32m--> 441\u001b[0m         \u001b[39mraise\u001b[39;00m \u001b[39mConnectionError\u001b[39;00m(\u001b[39m\"\u001b[39m\u001b[39mUSB device disconected\u001b[39m\u001b[39m\"\u001b[39m)\n\u001b[1;32m    442\u001b[0m \u001b[39m#records time when message was sent\u001b[39;00m\n\u001b[1;32m    443\u001b[0m \u001b[39mself\u001b[39m\u001b[39m.\u001b[39m__lastsend \u001b[39m=\u001b[39m datetime\u001b[39m.\u001b[39mdatetime\u001b[39m.\u001b[39mnow()\n",
      "\u001b[0;31mConnectionError\u001b[0m: USB device disconected"
     ]
    }
   ],
   "source": [
    "import pyrow.pyrow as pr \n",
    "available_machines = [pr.PyErg(machine) for machine in list(pr.find())]\n",
    "\n",
    "print(available_machines[0].get_monitor()[\"distance\"])"
   ]
  }
 ],
 "metadata": {
  "kernelspec": {
   "display_name": "Python 3",
   "language": "python",
   "name": "python3"
  },
  "language_info": {
   "codemirror_mode": {
    "name": "ipython",
    "version": 3
   },
   "file_extension": ".py",
   "mimetype": "text/x-python",
   "name": "python",
   "nbconvert_exporter": "python",
   "pygments_lexer": "ipython3",
   "version": "3.11.6"
  }
 },
 "nbformat": 4,
 "nbformat_minor": 2
}
