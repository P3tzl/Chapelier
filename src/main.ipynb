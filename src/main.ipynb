{
 "cells": [
  {
   "cell_type": "markdown",
   "metadata": {},
   "source": [
    "# Rowing game"
   ]
  },
  {
   "cell_type": "markdown",
   "metadata": {},
   "source": [
    "## Setup"
   ]
  },
  {
   "cell_type": "code",
   "execution_count": null,
   "metadata": {},
   "outputs": [],
   "source": [
    "import pygame as pg\n",
    "import sys\n",
    "import os \n",
    "import time \n",
    "import utils as ut\n",
    "\n",
    "# Standard \n",
    "BLUE = (0,80,239)\n",
    "BLACK = (0,0,0)\n",
    "GREEN = (0,138,0)\n",
    "RED = (229,20,0)\n",
    "WHITE = (255,255,255)\n",
    "GOLD = (248,217,73)\n",
    "SILVER = (170,169,173)\n",
    "\n",
    "# Initializing\n",
    "pg.init()\n",
    "\n",
    "# Importing all images/fonts\n",
    "[flag_be, flag_fr, flag_rma, flag_x] = ut.prepare_flags()\n",
    "boat = pg.transform.scale(pg.image.load(os.path.join(\".\", \"figures\",\"warship.png\")),(375,375))\n",
    "background_image = pg.transform.scale(pg.image.load(os.path.join(\".\", \"figures\",\"canal.png\")),(4000,2000))\n",
    "[font_10, font_30, font_50, font_70, font_90] = [ut.import_fonts(size) for size in [10,30,50,70,90]]\n",
    "\n",
    "# Screen parameters\n",
    "clock = pg.time.Clock()\n",
    "fps = 30\n",
    "screen = pg.display.set_mode((1600,900),pg.NOFRAME|pg.SCALED)\n",
    "width = screen.get_width()\n",
    "height = screen.get_height()\n",
    "pg.display.set_caption(\"Chapelié\")\n",
    "pg.display.set_icon(boat)\n",
    "\n",
    "# Assigning all utilites\n",
    "speed = 4\n",
    "colorswapper_rma = ut.ColorSwapper([WHITE,GREEN],.2,10)\n",
    "colorswapper_x = ut.ColorSwapper([WHITE,GREEN],.2,10)\n",
    "background = ut.Background(screen,background_image,speed)\n",
    "boat_rma = ut.Boat(screen,boat,flag_be,175)\n",
    "boat_x = ut.Boat(screen,boat,flag_fr,-75)\n",
    "flag_rma = ut.AnimatedFlag(screen,flag_rma,(-100-flag_rma[0].get_width(),flag_rma[0].get_height()//2))\n",
    "flag_x = ut.AnimatedFlag(screen,flag_x,(100,flag_x[0].get_height()//2))\n",
    "\n",
    "# Distance to screen x location\n",
    "location = lambda x: 1 - 1/(x/1000 + 1)"
   ]
  },
  {
   "cell_type": "code",
   "execution_count": null,
   "metadata": {},
   "outputs": [],
   "source": [
    "def button(text:str,font:pg.font.Font,pos:tuple[int],size:tuple[int],color:tuple=WHITE):\n",
    "    ut.render_text(screen,font,text,(pos[0],pos[1]),color)\n",
    "    box = pg.Rect(0,0,size[0],size[1])\n",
    "    box.center = (pos[0],pos[1])\n",
    "    pg.draw.rect(screen,color,box,7,40)\n",
    "    return box"
   ]
  },
  {
   "cell_type": "code",
   "execution_count": null,
   "metadata": {},
   "outputs": [],
   "source": [
    "def quit():\n",
    "    pg.display.quit()\n",
    "    pg.quit()\n",
    "    sys.exit()"
   ]
  },
  {
   "cell_type": "markdown",
   "metadata": {},
   "source": [
    "## Game part"
   ]
  },
  {
   "cell_type": "code",
   "execution_count": null,
   "metadata": {},
   "outputs": [],
   "source": [
    "def options(options_time:int):\n",
    "    continue_color = WHITE\n",
    "    back_color = WHITE\n",
    "    s = pg.Surface((width,height))\n",
    "    s.set_alpha(200)\n",
    "    s.fill((0,0,0))\n",
    "    screen.blit(s,(0,0))\n",
    "    while True:\n",
    "        continue_button = button(\"Continue\",font_50,(width//2,height//2-50),(375,75),continue_color)\n",
    "        back_button = button(\"Quit\",font_50,(width//2,height//2+50),(375,75),back_color)\n",
    "        mx,my = pg.mouse.get_pos()\n",
    "        for event in pg.event.get():\n",
    "            if continue_button.collidepoint(mx,my):\n",
    "                continue_color = RED\n",
    "                if event.type == pg.MOUSEBUTTONDOWN:\n",
    "                    return time.time() - options_time\n",
    "            else:\n",
    "                continue_color = WHITE\n",
    "            if back_button.collidepoint(mx,my):\n",
    "                back_color = RED\n",
    "                if event.type == pg.MOUSEBUTTONDOWN:\n",
    "                    return \"quit\"\n",
    "            else:\n",
    "                back_color = WHITE\n",
    "        pg.display.flip()\n",
    "        clock.tick(fps)"
   ]
  },
  {
   "cell_type": "code",
   "execution_count": null,
   "metadata": {},
   "outputs": [],
   "source": [
    "def game(total_time:int):\n",
    "    countdown = ut.Countdown(screen,time.time(),total_time,font_50,WHITE)\n",
    "    options_color = WHITE\n",
    "    count = 0\n",
    "    distance_rma = 0 #ut.get_distance()\n",
    "    distance_x = 0 #ut.get_distance()\n",
    "    start = time.time()\n",
    "    duration = 0\n",
    "    while duration < total_time:\n",
    "        # Time\n",
    "        duration = time.time()-start\n",
    "\n",
    "        # Retrieve distances. Distance difference with rma as reference\n",
    "        distance_rma += 10 #ut.get_distance()\n",
    "        distance_x += 0.9 #ut.get_distance()\n",
    "        delta = distance_rma-distance_x\n",
    "\n",
    "        # Swapping colors\n",
    "        color_rma = colorswapper_rma.swap(distance_rma,400,duration)\n",
    "        color_x = colorswapper_x.swap(distance_x,400,duration)\n",
    "\n",
    "        # Rendering of elements\n",
    "        background.blit(min(distance_rma,distance_x))\n",
    "        flag_rma.blit()\n",
    "        flag_x.blit()\n",
    "        boat_rma.blit(location(max(0,delta))*width)\n",
    "        boat_x.blit(location(max(0,-delta))*width)\n",
    "        countdown.blit()\n",
    "\n",
    "        ut.render_text(screen,font_30,\"VS\",(width//2,height//2))\n",
    "        ut.render_text(screen,font_50,str(round(distance_rma)) + \"m\",(width//2+400,height//2),color=color_rma)\n",
    "        ut.render_text(screen,font_50,str(round(distance_x)) + \"m\",(width//2-400,height//2),color=color_x)\n",
    "        ut.render_text(screen,font_10,\"Bouzin Philippot Prakopetz Vancanneyt (174 POL)\",(200,10))\n",
    "\n",
    "        # Options button\n",
    "        options_button = button(\"Options\",font_30,(width-150,50),(250,50),options_color)\n",
    "        mx,my = pg.mouse.get_pos()\n",
    "        for event in pg.event.get():\n",
    "            if options_button.collidepoint(mx,my):\n",
    "                options_color = RED\n",
    "                if event.type == pg.MOUSEBUTTONDOWN:\n",
    "                    return_options = options(time.time())\n",
    "                    if return_options == \"quit\":\n",
    "                        return return_options\n",
    "                    else:\n",
    "                        countdown.start += return_options\n",
    "            else:\n",
    "                options_color = WHITE\n",
    "        \n",
    "        # Pygame stuff\n",
    "        pg.display.flip()\n",
    "        clock.tick(fps)\n",
    "        screen.fill(BLACK)\n",
    "        count += 1\n",
    "    return [[distance_rma,boat_rma],[distance_x,boat_x]]"
   ]
  },
  {
   "cell_type": "markdown",
   "metadata": {},
   "source": [
    "## Menu's"
   ]
  },
  {
   "cell_type": "markdown",
   "metadata": {},
   "source": [
    "### Play menu"
   ]
  },
  {
   "cell_type": "code",
   "execution_count": null,
   "metadata": {},
   "outputs": [],
   "source": [
    "def play_menu():\n",
    "    user_input = \"\"\n",
    "    play_color = WHITE\n",
    "    back_color = WHITE\n",
    "    \n",
    "    while True:\n",
    "        background.blit(0)\n",
    "        s = pg.Surface((width,height))\n",
    "        s.set_alpha(200)\n",
    "        s.fill((0,0,0))\n",
    "        screen.blit(s,(0,0))\n",
    "        boat_rma.blit(0)\n",
    "        boat_x.blit(0)\n",
    "        ut.render_text(screen,font_10,\"Bouzin Philippot Prakopetz Vancanneyt (174 POL)\",(200,10))\n",
    "        button(\"Play Menu\",font_70,(width//2,height//2-200),(600,100))\n",
    "        button(\"Time: \"+user_input+\" min\",font_50,(width//2,height//2-50),(600,75))\n",
    "        play = button(\"Start\",font_50,(width//2+150,height//2+50),(290,75),play_color)\n",
    "        back = button(\"Back\",font_50,(width//2-150,height//2+50),(290,75),back_color)\n",
    "        \n",
    "        mx,my = pg.mouse.get_pos()\n",
    "        for event in pg.event.get():\n",
    "            if back.collidepoint(mx,my):\n",
    "                back_color = RED\n",
    "                if event.type == pg.MOUSEBUTTONDOWN:\n",
    "                    return\n",
    "            else:\n",
    "                back_color = WHITE\n",
    "            \n",
    "            if play.collidepoint(mx,my):\n",
    "                play_color = RED\n",
    "                if event.type == pg.MOUSEBUTTONDOWN:\n",
    "                    if len(user_input) > 0:\n",
    "                        if int(user_input) > 0:\n",
    "                            return int(user_input)\n",
    "            else:\n",
    "                play_color = WHITE\n",
    "            \n",
    "            if event.type == pg.KEYDOWN:\n",
    "                if event.key == pg.K_BACKSPACE:\n",
    "                    user_input = user_input[:-1]\n",
    "                elif event.unicode.isnumeric():\n",
    "                    user_input += event.unicode\n",
    "                    user_input = user_input[:4]\n",
    "                \n",
    "        pg.display.flip()\n",
    "        clock.tick(fps)"
   ]
  },
  {
   "cell_type": "markdown",
   "metadata": {},
   "source": [
    "### Main menu"
   ]
  },
  {
   "cell_type": "code",
   "execution_count": null,
   "metadata": {},
   "outputs": [],
   "source": [
    "def main_menu():\n",
    "    play_color = WHITE\n",
    "    quit_color = WHITE\n",
    "    background.blit(0)\n",
    "    s = pg.Surface((width,height))\n",
    "    s.set_alpha(200)\n",
    "    s.fill((0,0,0))\n",
    "    screen.blit(s,(0,0))\n",
    "    boat_rma.blit(0)\n",
    "    boat_x.blit(0)\n",
    "    ut.render_text(screen,font_10,\"Bouzin Philippot Prakopetz Vancanneyt (174 POL)\",(200,10))\n",
    "    button(\"Main Menu\",font_70,(width//2,height//2-200),(600,100))\n",
    "    \n",
    "    while True:\n",
    "        play_button = button(\"Play\",font_50,(width//2,height//2-50),(300,75),play_color)\n",
    "        quit_button = button(\"Quit\",font_50,(width//2,height//2+50),(300,75),quit_color)\n",
    "\n",
    "        mx,my = pg.mouse.get_pos()\n",
    "        for event in pg.event.get():\n",
    "            if play_button.collidepoint(mx,my):\n",
    "                play_color = RED\n",
    "                if event.type == pg.MOUSEBUTTONDOWN:\n",
    "                    return \"play\"\n",
    "            else:\n",
    "                play_color = WHITE\n",
    "                    \n",
    "            if quit_button.collidepoint(mx,my):\n",
    "                quit_color = RED\n",
    "                if event.type == pg.MOUSEBUTTONDOWN:\n",
    "                    return \"quit\"\n",
    "            else:\n",
    "                quit_color = WHITE\n",
    "            \n",
    "        pg.display.flip()\n",
    "        clock.tick(fps)"
   ]
  },
  {
   "cell_type": "markdown",
   "metadata": {},
   "source": [
    "### End menu"
   ]
  },
  {
   "cell_type": "code",
   "execution_count": null,
   "metadata": {},
   "outputs": [],
   "source": [
    "def end_menu(scores:list):\n",
    "    continue_color = WHITE\n",
    "    s = pg.Surface((width,height))\n",
    "    s.set_alpha(200)\n",
    "    s.fill((0,0,0))\n",
    "    screen.blit(s,(0,0))\n",
    "    if scores[0][0] < scores[1][0]:\n",
    "        scores.reverse()\n",
    "    ut.render_text(screen,font_90,\"Winner!\",(width//2,height//2-375))\n",
    "    ut.render_text(screen,font_50,\"1st \"+str(round(scores[0][0]))+\" m\",(width//2,height//2),GOLD)\n",
    "    ut.render_text(screen,font_30,\"2nd \"+str(round(scores[1][0]))+\" m\",(width//2,height//2+75),SILVER)\n",
    "    while True:\n",
    "        scores[0][1].ypos = 200\n",
    "        scores[0][1].blit(width//2-scores[0][1].width_image//2)\n",
    "        continue_button = button(\"Continue\",font_50,(width//2,height//2+200),(375,75),continue_color)\n",
    "        mx,my = pg.mouse.get_pos()\n",
    "        for event in pg.event.get():\n",
    "            if continue_button.collidepoint(mx,my):\n",
    "                continue_color = RED\n",
    "                if event.type == pg.MOUSEBUTTONDOWN:\n",
    "                    return\n",
    "            else:\n",
    "                continue_color = WHITE\n",
    "        pg.display.flip()\n",
    "        clock.tick(fps)"
   ]
  },
  {
   "cell_type": "markdown",
   "metadata": {},
   "source": [
    "## Playing"
   ]
  },
  {
   "cell_type": "code",
   "execution_count": null,
   "metadata": {},
   "outputs": [],
   "source": [
    "def main():\n",
    "    while True:\n",
    "        return_menu = main_menu()\n",
    "        if return_menu == \"play\":\n",
    "            return_play = play_menu()\n",
    "            if type(return_play) == int:\n",
    "                return_game = game(return_play)\n",
    "                if return_game == \"quit\":\n",
    "                    continue\n",
    "                else:\n",
    "                    end_menu(return_game)\n",
    "            else:\n",
    "                continue\n",
    "        else:\n",
    "            quit()\n",
    "#! I am becoming schizophrenic from this code, but no worries"
   ]
  },
  {
   "cell_type": "code",
   "execution_count": null,
   "metadata": {},
   "outputs": [],
   "source": [
    "main()"
   ]
  },
  {
   "cell_type": "code",
   "execution_count": null,
   "metadata": {},
   "outputs": [],
   "source": [
    "from pyrow import pyrow as pr\n",
    "from threading import Thread"
   ]
  },
  {
   "cell_type": "code",
   "execution_count": null,
   "metadata": {},
   "outputs": [],
   "source": [
    "devices = [pr.PyErg(erg) for erg in list(pr.find())]\n",
    "threads = []\n",
    "for device in devices:\n",
    "    threads.append(Thread(target=device.get_monitor))"
   ]
  },
  {
   "cell_type": "code",
   "execution_count": null,
   "metadata": {},
   "outputs": [],
   "source": [
    "def monitor_stream(device:pr.PyErg):\n",
    "    while True:\n",
    "        device.get_monitor()"
   ]
  }
 ],
 "metadata": {
  "kernelspec": {
   "display_name": "Python 3",
   "language": "python",
   "name": "python3"
  },
  "language_info": {
   "codemirror_mode": {
    "name": "ipython",
    "version": 3
   },
   "file_extension": ".py",
   "mimetype": "text/x-python",
   "name": "python",
   "nbconvert_exporter": "python",
   "pygments_lexer": "ipython3",
   "version": "3.11.6"
  }
 },
 "nbformat": 4,
 "nbformat_minor": 2
}
