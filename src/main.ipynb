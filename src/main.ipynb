{
 "cells": [
  {
   "cell_type": "code",
   "execution_count": null,
   "metadata": {},
   "outputs": [],
   "source": [
    "import pygame as pg\n",
    "import os \n",
    "import time \n",
    "import utils as ut\n",
    "\n",
    "# Standard \n",
    "BLUE = (0,80,239)\n",
    "BLACK = (0,0,0)\n",
    "GREEN = (0,138,0)\n",
    "RED = (229,20,0)\n",
    "WHITE = (255,255,255)\n",
    "\n",
    "# Initializing\n",
    "pg.init()\n",
    "\n",
    "# Screen parameters\n",
    "clock = pg.time.Clock()\n",
    "screen = pg.display.set_mode((1600,900),pg.NOFRAME|pg.SCALED)\n",
    "pg.display.set_caption(\"Chapelié\")\n",
    "\n",
    "# Importing all images/fonts\n",
    "[flag_be, flag_fr, flag_rma, flag_x] = ut.prepare_flags()\n",
    "boat = pg.transform.scale(pg.image.load(os.path.join(\".\", \"figures\",\"warship.png\")),(375,375))\n",
    "background_image = pg.transform.scale(pg.image.load(os.path.join(\".\", \"figures\",\"canal.png\")),(4000,2000)).convert()\n",
    "background_image.set_alpha(128)\n",
    "[font_30, font_50, font_70] = ut.import_fonts()\n",
    "\n",
    "# Assigning all utilites\n",
    "colorswapper = ut.ColorSwapper([WHITE,GREEN],.2,10)\n",
    "countdown = ut.Countdown(screen,time.time(),30,font_50,WHITE)\n",
    "distance_marker1 = ut.DistanceMarkers(screen,font_30,200,125)\n",
    "distance_marker2 = ut.DistanceMarkers(screen,font_30,200,-125)\n",
    "background = ut.Background(screen,background_image,4)\n",
    "boat_rma = ut.Boat(screen,boat,flag_be,175)\n",
    "boat_x = ut.Boat(screen,boat,flag_be,-75)\n",
    "flag_rma = ut.AnimatedFlag(screen,flag_rma,(-100-flag_rma[0].get_width(),flag_rma[0].get_height()//2))\n",
    "flag_x = ut.AnimatedFlag(screen,flag_x,(100,flag_x[0].get_height()//2))\n",
    "\n",
    "count = 0\n",
    "start = time.time()\n",
    "for i in range(100):\n",
    "    # Time\n",
    "    duration = time.time()-start\n",
    "    \n",
    "    # Swapping colors\n",
    "    distance_marker1.color = colorswapper.swap(count,200,duration)\n",
    "    \n",
    "    # Rendering of elements\n",
    "    background.blit(count)\n",
    "    distance_marker1.blit(count)\n",
    "    distance_marker2.blit(count)\n",
    "    background.blit(count)\n",
    "    flag_rma.blit()\n",
    "    flag_x.blit()\n",
    "    ut.render_text(screen,font_30,\"VS\",(screen.get_width()//2,screen.get_height()//2))\n",
    "    boat_rma.blit(count)\n",
    "    boat_x.blit(count)\n",
    "    countdown.blit()\n",
    "\n",
    "    # Pygame stuff\n",
    "    clock.tick(30)\n",
    "    pg.display.flip()\n",
    "    screen.fill(BLACK)\n",
    "    count += 1\n",
    "\n",
    "pg.display.quit()\n",
    "pg.quit()"
   ]
  },
  {
   "cell_type": "code",
   "execution_count": null,
   "metadata": {},
   "outputs": [],
   "source": [
    "#TODO: Can be implemented\n",
    "score1 = font_50.render(\"DISTANCE: \"+str(count) + \" m\", True, color)\n",
    "score1_rect = score1.get_rect()\n",
    "score1_rect.midtop = (screen.get_width()//2,100)\n",
    "score2 = font_50.render(\"DISTANCE: \"+str(count) + \" m\", True, WHITE)\n",
    "score2_rect = score2.get_rect()\n",
    "score2_rect.midbottom = (screen.get_width()//2,screen.get_height()-100)\n",
    "    "
   ]
  },
  {
   "cell_type": "code",
   "execution_count": null,
   "metadata": {},
   "outputs": [],
   "source": [
    "from pyrow import pyrow as pr\n",
    "from threading import Thread"
   ]
  },
  {
   "cell_type": "code",
   "execution_count": null,
   "metadata": {},
   "outputs": [],
   "source": [
    "devices = [pr.PyErg(erg) for erg in list(pr.find())]\n",
    "threads = []\n",
    "for device in devices:\n",
    "    threads.append(Thread(target=device.get_monitor))"
   ]
  },
  {
   "cell_type": "code",
   "execution_count": null,
   "metadata": {},
   "outputs": [],
   "source": [
    "def monitor_stream(device:pr.PyErg):\n",
    "    while True:\n",
    "        device.get_monitor()"
   ]
  }
 ],
 "metadata": {
  "kernelspec": {
   "display_name": "Python 3",
   "language": "python",
   "name": "python3"
  },
  "language_info": {
   "codemirror_mode": {
    "name": "ipython",
    "version": 3
   },
   "file_extension": ".py",
   "mimetype": "text/x-python",
   "name": "python",
   "nbconvert_exporter": "python",
   "pygments_lexer": "ipython3",
   "version": "3.11.6"
  }
 },
 "nbformat": 4,
 "nbformat_minor": 2
}
