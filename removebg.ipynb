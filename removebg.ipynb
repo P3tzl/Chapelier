{
 "cells": [
  {
   "cell_type": "code",
   "execution_count": 43,
   "metadata": {},
   "outputs": [],
   "source": [
    "# Importing Required Modules \n",
    "from rembg import remove, new_session\n",
    "from PIL import Image \n",
    "import os"
   ]
  },
  {
   "cell_type": "code",
   "execution_count": 44,
   "metadata": {},
   "outputs": [],
   "source": [
    "model_name = \"isnet-general-use\"\n",
    "session = new_session(model_name)\n",
    "\n",
    "for file in [f for f in os.listdir(\"./flag_fr_white/\") if not f.startswith('.')]:\n",
    "    input = Image.open(\"./flag_fr_white/\"+file)\n",
    "    output = remove(input,session=session) \n",
    "    output.save(\"./flag_fr/\"+file,optimize=True) "
   ]
  },
  {
   "cell_type": "code",
   "execution_count": 46,
   "metadata": {},
   "outputs": [],
   "source": [
    "for file in [f for f in os.listdir(\"./flag_fr/\") if not f.startswith('.')]:\n",
    "    input = Image.open(\"./flag_fr/\"+file)\n",
    "    input = input.resize((100,100))\n",
    "    input.save(\"./flag_fr/\"+file, optimize=True, quality=95)"
   ]
  }
 ],
 "metadata": {
  "kernelspec": {
   "display_name": "Python 3",
   "language": "python",
   "name": "python3"
  },
  "language_info": {
   "codemirror_mode": {
    "name": "ipython",
    "version": 3
   },
   "file_extension": ".py",
   "mimetype": "text/x-python",
   "name": "python",
   "nbconvert_exporter": "python",
   "pygments_lexer": "ipython3",
   "version": "3.11.5"
  }
 },
 "nbformat": 4,
 "nbformat_minor": 2
}
